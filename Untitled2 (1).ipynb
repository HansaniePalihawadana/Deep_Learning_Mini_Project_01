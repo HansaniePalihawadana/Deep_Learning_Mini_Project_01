{
  "nbformat": 4,
  "nbformat_minor": 0,
  "metadata": {
    "colab": {
      "provenance": []
    },
    "kernelspec": {
      "name": "python3",
      "display_name": "Python 3"
    },
    "language_info": {
      "name": "python"
    }
  },
  "cells": [
    {
      "cell_type": "code",
      "execution_count": 1,
      "metadata": {
        "id": "KAA-FeP9v211"
      },
      "outputs": [],
      "source": [
        "\n",
        "!mkdir generated_images\n"
      ]
    },
    {
      "cell_type": "code",
      "source": [
        "import os\n",
        "import numpy as np\n",
        "from sklearn.model_selection import train_test_split\n",
        "from sklearn.preprocessing import LabelEncoder\n",
        "from keras.preprocessing.image import load_img, img_to_array\n",
        "from keras.utils import to_categorical\n",
        "from keras.models import Sequential\n",
        "from keras.layers import Conv2D, MaxPooling2D, Flatten, Dense"
      ],
      "metadata": {
        "id": "GHk5xUjQ6GG1"
      },
      "execution_count": 10,
      "outputs": []
    },
    {
      "cell_type": "code",
      "source": [
        "image_folder = '/content/generated_images'\n",
        "image_files = [os.path.join(image_folder, file) for file in os.listdir(image_folder) if file.endswith('.png')]\n"
      ],
      "metadata": {
        "id": "78X3PnWp6Q9u"
      },
      "execution_count": 12,
      "outputs": []
    },
    {
      "cell_type": "code",
      "source": [
        "def preprocess_images(file_paths, target_size=(100, 100), grayscale=False):\n",
        "    images = []\n",
        "    for file_path in file_paths:\n",
        "\n",
        "        img = load_img(file_path, target_size=target_size, color_mode='grayscale' if grayscale else 'rgb')\n",
        "        img_array = img_to_array(img)\n",
        "        images.append(img_array)\n",
        "\n",
        "\n",
        "    return np.array(images)\n",
        "\n",
        "\n",
        "X_train_preprocessed = preprocess_images(X_train)\n",
        "X_test_preprocessed = preprocess_images(X_test)\n",
        "\n",
        "\n",
        "X_train_preprocessed /= 255.0\n",
        "X_test_preprocessed /= 255.0"
      ],
      "metadata": {
        "id": "CyfXLkqp6mWm"
      },
      "execution_count": 13,
      "outputs": []
    },
    {
      "cell_type": "code",
      "source": [
        "model = Sequential()\n",
        "model.add(Conv2D(32, (3, 3), activation='relu', input_shape=(100, 100, 1)))\n",
        "model.add(MaxPooling2D((2, 2)))\n",
        "model.add(Conv2D(64, (3, 3), activation='relu'))\n",
        "model.add(MaxPooling2D((2, 2)))\n",
        "model.add(Conv2D(128, (3, 3), activation='relu'))\n",
        "model.add(MaxPooling2D((2, 2)))\n",
        "model.add(Flatten())\n",
        "model.add(Dense(128, activation='relu'))\n",
        "model.add(Dense(len(label_encoder.classes_), activation='softmax'))"
      ],
      "metadata": {
        "id": "2BYX7U-E6s-k"
      },
      "execution_count": 14,
      "outputs": []
    },
    {
      "cell_type": "code",
      "source": [
        "model.compile(optimizer='adam', loss='sparse_categorical_crossentropy', metrics=['accuracy'])"
      ],
      "metadata": {
        "id": "9q6ExclV6xyu"
      },
      "execution_count": 15,
      "outputs": []
    },
    {
      "cell_type": "code",
      "source": [
        "print(f\"Type of X_train: {type(X_train)}\")\n",
        "print(f\"Type of y_train: {type(y_train)}\")"
      ],
      "metadata": {
        "colab": {
          "base_uri": "https://localhost:8080/"
        },
        "id": "1U6dNIUU7YDx",
        "outputId": "9c426ba5-ea30-45ac-bf0a-af85b01742d8"
      },
      "execution_count": 19,
      "outputs": [
        {
          "output_type": "stream",
          "name": "stdout",
          "text": [
            "Type of X_train: <class 'list'>\n",
            "Type of y_train: <class 'numpy.ndarray'>\n"
          ]
        }
      ]
    },
    {
      "cell_type": "code",
      "source": [
        "import tensorflow as tf"
      ],
      "metadata": {
        "id": "YO0a4zGT7Sj1"
      },
      "execution_count": 18,
      "outputs": []
    },
    {
      "cell_type": "code",
      "source": [
        "X_train = np.array(X_train)"
      ],
      "metadata": {
        "id": "yrxdraDA7djr"
      },
      "execution_count": 20,
      "outputs": []
    },
    {
      "cell_type": "code",
      "source": [
        "model.fit(X_train, y_train, epochs=10, validation_data=(X_test, y_test))"
      ],
      "metadata": {
        "id": "VWL05EPi7luL"
      },
      "execution_count": null,
      "outputs": []
    },
    {
      "cell_type": "code",
      "source": [
        "from keras.preprocessing.image import ImageDataGenerator\n",
        "import numpy as np"
      ],
      "metadata": {
        "id": "Tf4k36YD8w6r"
      },
      "execution_count": 25,
      "outputs": []
    },
    {
      "cell_type": "code",
      "source": [
        "if not isinstance(y_test, np.ndarray):\n",
        "    y_test = np.array(y_test)"
      ],
      "metadata": {
        "id": "WtHezmP981hr"
      },
      "execution_count": 26,
      "outputs": []
    },
    {
      "cell_type": "code",
      "source": [
        "X_test_preprocessed = datagen.flow(np.expand_dims(X_test, axis=-1), y_test, batch_size=32, subset='validation').next()[0]"
      ],
      "metadata": {
        "id": "IEK1O6cS85wj"
      },
      "execution_count": null,
      "outputs": []
    },
    {
      "cell_type": "code",
      "source": [
        "X_test_preprocessed = tf.image.rgb_to_grayscale(X_test)\n",
        "\n",
        "X_test_preprocessed /= 255.0\n",
        "\n",
        "\n",
        "loss, accuracy = model.evaluate(X_test_preprocessed, y_test)\n",
        "\n",
        "\n",
        "\n",
        "print(f\"Test Accuracy: {accuracy * 100:.2f}%\")\n",
        "\n",
        "\n",
        "model.save('sinhala_character_model.h5')"
      ],
      "metadata": {
        "id": "IY8UDbXx8F6U"
      },
      "execution_count": null,
      "outputs": []
    },
    {
      "cell_type": "code",
      "source": [
        "cd /Sinhala_Character_Recognition\n"
      ],
      "metadata": {
        "colab": {
          "base_uri": "https://localhost:8080/"
        },
        "id": "ajTkwbQq9Lpq",
        "outputId": "f4afc710-03f8-4b7f-cbc1-ea8a7bcb80b3"
      },
      "execution_count": 4,
      "outputs": [
        {
          "output_type": "stream",
          "name": "stdout",
          "text": [
            "[Errno 2] No such file or directory: '/Sinhala_Character_Recognition'\n",
            "/content\n"
          ]
        }
      ]
    },
    {
      "cell_type": "code",
      "source": [
        "mkdir \"Deep Learning Mini Project 01\"\n"
      ],
      "metadata": {
        "id": "Rd5iw7iK9RRV"
      },
      "execution_count": 5,
      "outputs": []
    },
    {
      "cell_type": "code",
      "source": [
        "cd \"Deep Learning Mini Project 01\"\n"
      ],
      "metadata": {
        "colab": {
          "base_uri": "https://localhost:8080/"
        },
        "id": "GeRKAjlD9VH8",
        "outputId": "79d7281a-49f9-4d1b-aac0-81871386fc4e"
      },
      "execution_count": 6,
      "outputs": [
        {
          "output_type": "stream",
          "name": "stdout",
          "text": [
            "/content/Deep Learning Mini Project 01\n"
          ]
        }
      ]
    },
    {
      "cell_type": "code",
      "source": [
        "\n",
        "!mv /content/generated_images .\n",
        "\n",
        "!mv /content/Sinhala_Character_Recognition.ipynb .\n"
      ],
      "metadata": {
        "colab": {
          "base_uri": "https://localhost:8080/"
        },
        "id": "eIqWL5cC9x3c",
        "outputId": "d3d2501e-941e-46fe-ce84-0e02a8308647"
      },
      "execution_count": 31,
      "outputs": [
        {
          "output_type": "stream",
          "name": "stdout",
          "text": [
            "mv: cannot stat '/content/Sinhala_Character_Recognition.ipynb': No such file or directory\n"
          ]
        }
      ]
    },
    {
      "cell_type": "code",
      "source": [
        "\n",
        "!pwd\n",
        "\n",
        "\n",
        "!ls\n"
      ],
      "metadata": {
        "colab": {
          "base_uri": "https://localhost:8080/"
        },
        "id": "2xuc0Bqg-FnF",
        "outputId": "dbe19f39-91ba-40cc-e69e-e4e8dc6cacbf"
      },
      "execution_count": 32,
      "outputs": [
        {
          "output_type": "stream",
          "name": "stdout",
          "text": [
            "/content/Deep Learning Mini Project 01\n",
            "generated_images\n"
          ]
        }
      ]
    },
    {
      "cell_type": "code",
      "source": [
        "!mv /content/Deep\\ Learning\\ Mini\\ Project\\ 01/generated_images/Untitled2.ipynb ."
      ],
      "metadata": {
        "colab": {
          "base_uri": "https://localhost:8080/"
        },
        "id": "Ggax1uS6_v4u",
        "outputId": "7f74de89-c701-4273-90f1-68d488a16a1c"
      },
      "execution_count": 7,
      "outputs": [
        {
          "output_type": "stream",
          "name": "stdout",
          "text": [
            "mv: cannot stat '/content/Deep Learning Mini Project 01/generated_images/Untitled2.ipynb': No such file or directory\n"
          ]
        }
      ]
    },
    {
      "cell_type": "code",
      "source": [
        "!git Deep_Learning_Mini_Project_01"
      ],
      "metadata": {
        "colab": {
          "base_uri": "https://localhost:8080/"
        },
        "id": "4uCRSfe1ANN7",
        "outputId": "850def59-72e1-407c-ebaf-b00bf0ce5ab7"
      },
      "execution_count": 39,
      "outputs": [
        {
          "output_type": "stream",
          "name": "stdout",
          "text": [
            "git: 'Deep_Learning_Mini_Project_01' is not a git command. See 'git --help'.\n"
          ]
        }
      ]
    },
    {
      "cell_type": "code",
      "source": [
        "!git add .\n"
      ],
      "metadata": {
        "id": "7kqDM4lJAciD"
      },
      "execution_count": 38,
      "outputs": []
    },
    {
      "cell_type": "code",
      "source": [
        "!git commit -m  \"Deep_Learning_Mini_Project_01\"\n"
      ],
      "metadata": {
        "colab": {
          "base_uri": "https://localhost:8080/"
        },
        "id": "XPFSciqxAiu1",
        "outputId": "178921d3-5504-4bb4-d12e-04cdbb416b40"
      },
      "execution_count": 3,
      "outputs": [
        {
          "output_type": "stream",
          "name": "stdout",
          "text": [
            "fatal: not a git repository (or any of the parent directories): .git\n"
          ]
        }
      ]
    },
    {
      "cell_type": "code",
      "source": [
        "!git config --global user.email \"ashahansanie2001@gmail.com\"\n",
        "!git config --global user.name \"Asha\""
      ],
      "metadata": {
        "id": "NtzHbZ5NX9l2"
      },
      "execution_count": 2,
      "outputs": []
    },
    {
      "cell_type": "code",
      "source": [
        "!git remote add origin https://github.com/HansaniePalihawadana/Deep_Learning_Mini_Project_01"
      ],
      "metadata": {
        "id": "8prrfFcrBDl7"
      },
      "execution_count": 42,
      "outputs": []
    }
  ]
}